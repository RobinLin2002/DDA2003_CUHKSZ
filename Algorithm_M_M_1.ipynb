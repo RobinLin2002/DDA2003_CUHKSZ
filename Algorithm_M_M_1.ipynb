{
  "cells": [
    {
      "cell_type": "markdown",
      "metadata": {
        "id": "view-in-github",
        "colab_type": "text"
      },
      "source": [
        "<a href=\"https://colab.research.google.com/github/RobinLin2002/DDA2003_CUHKSZ/blob/main/Algorithm_M_M_1.ipynb\" target=\"_parent\"><img src=\"https://colab.research.google.com/assets/colab-badge.svg\" alt=\"Open In Colab\"/></a>"
      ]
    },
    {
      "cell_type": "code",
      "execution_count": null,
      "id": "91327ea2",
      "metadata": {
        "id": "91327ea2"
      },
      "outputs": [],
      "source": [
        "import numpy as np\n",
        "import torch\n",
        "import torch.nn as nn\n",
        "import torch.optim as optim\n",
        "import torch.nn.functional as F\n",
        "from torchvision import datasets, transforms\n",
        "from torch.optim import Adam\n",
        "from torch.optim import lr_scheduler\n",
        "\n",
        "import matplotlib.pyplot as plt"
      ]
    },
    {
      "cell_type": "code",
      "source": [
        "if torch.cuda.is_available():\n",
        "    device = torch.device(\"cuda\")\n",
        "    print(\"GPU is available.\")\n",
        "else:\n",
        "    device = torch.device(\"cpu\")\n",
        "    print(\"GPU is not available, using CPU.\")"
      ],
      "metadata": {
        "colab": {
          "base_uri": "https://localhost:8080/"
        },
        "id": "YWaBpRn-FQsW",
        "outputId": "4b0eefd9-a1df-4d6b-9727-b854031f27f7"
      },
      "id": "YWaBpRn-FQsW",
      "execution_count": null,
      "outputs": [
        {
          "output_type": "stream",
          "name": "stdout",
          "text": [
            "GPU is available.\n"
          ]
        }
      ]
    },
    {
      "cell_type": "code",
      "execution_count": null,
      "id": "49b36a70",
      "metadata": {
        "colab": {
          "base_uri": "https://localhost:8080/"
        },
        "id": "49b36a70",
        "outputId": "6242caab-ea62-4562-9e3c-4a7ca60cf128"
      },
      "outputs": [
        {
          "output_type": "stream",
          "name": "stdout",
          "text": [
            "MPS not available because the current PyTorch install was not built with MPS enabled.\n"
          ]
        }
      ],
      "source": [
        "if not torch.backends.mps.is_available():\n",
        "    if not torch.backends.mps.is_built():\n",
        "        print(\"MPS not available because the current PyTorch install was not \"\n",
        "              \"built with MPS enabled.\")\n",
        "    else:\n",
        "        print(\"MPS not available because the current MacOS version is not 12.3+ \"\n",
        "              \"and/or you do not have an MPS-enabled device on this machine.\")\n",
        "\n",
        "else:\n",
        "    mps_device = torch.device(\"mps\")"
      ]
    },
    {
      "cell_type": "code",
      "execution_count": null,
      "id": "f1e9b993",
      "metadata": {
        "id": "f1e9b993"
      },
      "outputs": [],
      "source": [
        "\"\"\" M/M/1 Simulator \"\"\"\n",
        "def M_M_1_Simulator(arrival_rate, service_rate, num_customers):\n",
        "    interarrival_times = np.random.exponential(scale=1/arrival_rate, size=num_customers)\n",
        "    service_times = np.random.exponential(scale=1/service_rate, size=num_customers)\n",
        "    sojourn_times = np.zeros(num_customers+1)\n",
        "\n",
        "    for t in range(num_customers):\n",
        "        sojourn_times[t+1] = np.max([sojourn_times[t] - interarrival_times[t], 0]) + service_times[t]\n",
        "\n",
        "    sample = np.vstack([interarrival_times, service_times,sojourn_times[:-1],sojourn_times[1:]]).T\n",
        "    # Each row of sample is (A_t, S_t, R_{t-1}, R_t)\n",
        "\n",
        "    return sample"
      ]
    },
    {
      "cell_type": "code",
      "execution_count": null,
      "id": "260d3b41",
      "metadata": {
        "id": "260d3b41"
      },
      "outputs": [],
      "source": [
        "\"\"\" Kernel functions \"\"\"\n",
        "# Gaussian Radial Basis Function (RBF) kernel implementation\n",
        "def gaussian_kernel_matrix(X, sigma=1.0):\n",
        "    X = X.to(device)\n",
        "    distances = (X.reshape(len(X),1) - X) ** 2\n",
        "    kernel_matrix = torch.exp(-distances / (2 * sigma ** 2)) - torch.eye(len(X),device = device)\n",
        "    # kernel_matrix = torch.exp(-distances / (2 * sigma ** 2)) - torch.eye(len(X), device=mps_device)\n",
        "\n",
        "    return kernel_matrix\n",
        "\n",
        "torch_exp_density = lambda x, rate: rate * torch.exp(-rate * x)"
      ]
    },
    {
      "cell_type": "code",
      "execution_count": null,
      "id": "585dffb4",
      "metadata": {
        "id": "585dffb4"
      },
      "outputs": [],
      "source": [
        "\"\"\" Neural Network \"\"\"\n",
        "class DensityRatioNetwork(nn.Module):\n",
        "    def __init__(self):\n",
        "        super(DensityRatioNetwork, self).__init__()\n",
        "        # Define the layers of the network\n",
        "        self.fc1 = nn.Linear(1, 1024)  # 输入层到第一个隐藏层\n",
        "        self.relu = nn.ReLU()  # ReLU激活函数\n",
        "        self.dropout = nn.Dropout(0.5)  # Dropout层，防止过拟合\n",
        "        self.fc2 = nn.Linear(1024, 1024)  # 第一个隐藏层到第二个隐藏层\n",
        "        self.fc3 = nn.Linear(1024, 1)  # 输出层\n",
        "        self.softplus = nn.Softplus()\n",
        "\n",
        "    def forward(self, x):\n",
        "        x = x.to(device)\n",
        "        x = self.fc1(x)\n",
        "        x = self.relu(x)\n",
        "        # x = self.dropout(x)\n",
        "        x = self.relu(self.fc2(x))\n",
        "        # x = self.dropout(x)\n",
        "        #x = self.relu(self.fc2(x))\n",
        "        # x = self.dropout(x)\n",
        "        x = self.fc3(x)\n",
        "        x = self.softplus(x)\n",
        "\n",
        "        return x\n"
      ]
    },
    {
      "cell_type": "code",
      "execution_count": null,
      "id": "6f7ddae8",
      "metadata": {
        "id": "6f7ddae8"
      },
      "outputs": [],
      "source": [
        "def loss_function(batch_data, batch_size, fA, fS, fA_tilde, fS_tilde, sigma, regularization=0.01):\n",
        "    batch_data = torch.as_tensor(batch_data, dtype=torch.float32, device = device)\n",
        "    # batch_data = torch.as_tensor(batch_data, dtype=torch.float32, device=mps_device)\n",
        "\n",
        "    delta = w(batch_data[:,2:3])*fA(batch_data[:,0:1])*fS(batch_data[:,1:2])/fA_tilde(batch_data[:,0:1])/fS_tilde(batch_data[:,1:2]) - w(batch_data[:,3:4])\n",
        "    kernel = gaussian_kernel_matrix(batch_data[:,3], sigma)\n",
        "    batch_value = delta.T @ kernel @ delta\n",
        "    batch_value = batch_value.squeeze()\n",
        "    mean_value = torch.sum(w(batch_data[:,3:4]))\n",
        "\n",
        "    loss = batch_value /batch_size/(batch_size-1)  + regularization*(mean_value/batch_size - 1)**2/2\n",
        "    #loss = (mean_value/batch_size - 1)**2/2\n",
        "    return loss"
      ]
    },
    {
      "cell_type": "code",
      "execution_count": null,
      "id": "d40fb42c",
      "metadata": {
        "id": "d40fb42c"
      },
      "outputs": [],
      "source": [
        "num_customers = 100000\n",
        "arrival_rate_true = 0.3\n",
        "service_rate_true = 1\n",
        "arrival_rate_IS = 0.9\n",
        "service_rate_IS = 1\n",
        "batch_size = 1024"
      ]
    },
    {
      "cell_type": "code",
      "execution_count": null,
      "id": "df1f7c7e",
      "metadata": {
        "id": "df1f7c7e"
      },
      "outputs": [],
      "source": [
        "sample_true = M_M_1_Simulator(arrival_rate_true, service_rate_true, num_customers)\n",
        "sample_IS = M_M_1_Simulator(arrival_rate_IS, service_rate_IS, num_customers)\n",
        "sample_IS_torch = torch.as_tensor(sample_IS, dtype=torch.float32)\n",
        "sample_IS_torch= sample_IS_torch.to(device)"
      ]
    },
    {
      "cell_type": "code",
      "execution_count": null,
      "id": "1fe0a8fa",
      "metadata": {
        "id": "1fe0a8fa"
      },
      "outputs": [],
      "source": [
        "fA = lambda x: torch_exp_density(x, arrival_rate_true)\n",
        "fS = lambda x: torch_exp_density(x, service_rate_true)\n",
        "fA_tilde = lambda x: torch_exp_density(x, arrival_rate_IS)\n",
        "fS_tilde = lambda x: torch_exp_density(x, service_rate_IS)\n",
        "w = DensityRatioNetwork().to(device)"
      ]
    },
    {
      "cell_type": "code",
      "execution_count": null,
      "id": "8e77adde",
      "metadata": {
        "scrolled": true,
        "colab": {
          "base_uri": "https://localhost:8080/"
        },
        "id": "8e77adde",
        "outputId": "a0bd94ab-c434-449e-8e75-6f9ef52b855c"
      },
      "outputs": [
        {
          "output_type": "stream",
          "name": "stdout",
          "text": [
            "Epoch 0: Loss -0.0025386353954672813 result 0.5602699518203735\n",
            "Epoch 2000: Loss -0.02271082065999508 result 0.0758357048034668\n",
            "Epoch 4000: Loss 0.0019453050335869193 result 0.05352543666958809\n",
            "Epoch 6000: Loss -0.000555878272280097 result 0.04725482687354088\n",
            "Epoch 8000: Loss 0.00436804536730051 result 0.03653660789132118\n",
            "Epoch 10000: Loss 4.524970427155495e-05 result 0.020839987322688103\n",
            "Epoch 12000: Loss 0.0009204082889482379 result 0.016479546204209328\n",
            "Epoch 14000: Loss 0.0023746443912386894 result 0.010692710056900978\n",
            "Epoch 16000: Loss 0.005421916954219341 result 0.010821299627423286\n",
            "Epoch 18000: Loss -0.0015556375728920102 result 0.007331361062824726\n",
            "Epoch 20000: Loss 0.00427201297134161 result 0.004539566580206156\n",
            "Epoch 22000: Loss -0.0027014371007680893 result 0.007135913707315922\n",
            "Epoch 24000: Loss 0.014526983723044395 result 0.0082466509193182\n",
            "Epoch 26000: Loss 0.00030715917819179595 result 0.004927969072014093\n",
            "Epoch 28000: Loss -0.022899335250258446 result 0.002525607356801629\n",
            "Epoch 30000: Loss 0.01775718480348587 result 0.001576926908455789\n",
            "Epoch 32000: Loss -0.0016747508198022842 result 0.0025577107444405556\n",
            "Epoch 34000: Loss 0.021534990519285202 result 0.005813807714730501\n",
            "Epoch 36000: Loss -0.04460567608475685 result 0.003827396547421813\n",
            "Epoch 38000: Loss -0.010389285162091255 result 0.006990052293986082\n",
            "Epoch 40000: Loss -0.003762564854696393 result 0.0021272951271384954\n",
            "Epoch 42000: Loss 0.009289114736020565 result 0.0016701429849490523\n",
            "Epoch 44000: Loss 0.008408639580011368 result 0.002184830838814378\n",
            "Epoch 46000: Loss -0.11200331151485443 result 0.003891153261065483\n",
            "Epoch 48000: Loss -0.03352166712284088 result 0.002451122272759676\n",
            "Epoch 50000: Loss 0.0033510946668684483 result 0.001476029516197741\n",
            "Epoch 52000: Loss -0.014887914061546326 result 0.0019802877213805914\n",
            "Epoch 54000: Loss 0.06428981572389603 result 0.0014751245034858584\n",
            "Epoch 56000: Loss -0.003819709178060293 result 0.002051572548225522\n",
            "Epoch 58000: Loss 0.02001642994582653 result 0.0022154608741402626\n",
            "Epoch 60000: Loss -0.014468347653746605 result 0.0019321386935189366\n",
            "Epoch 62000: Loss 0.0017272398108616471 result 0.0015612044371664524\n",
            "Epoch 64000: Loss 0.01509946584701538 result 0.002237135311588645\n",
            "Epoch 66000: Loss 0.01901753433048725 result 0.0028086050879210234\n",
            "Epoch 68000: Loss -0.00904524140059948 result 0.002321274485439062\n",
            "Epoch 70000: Loss -0.0036240541376173496 result 0.002456908579915762\n",
            "Epoch 72000: Loss 0.023643141612410545 result 0.000938751210924238\n",
            "Epoch 74000: Loss 0.01400942075997591 result 0.0006771979969926178\n",
            "Epoch 76000: Loss -0.006086530163884163 result 0.0012368771713227034\n",
            "Epoch 78000: Loss 0.009807371534407139 result 0.0009326072176918387\n",
            "Epoch 80000: Loss -0.012933426536619663 result 0.0009329466847702861\n",
            "Epoch 82000: Loss 0.0034404625184834003 result 0.0013392831897363067\n",
            "Epoch 84000: Loss 0.01799764484167099 result 0.0019843431655317545\n",
            "Epoch 86000: Loss -0.035352904349565506 result 0.0006980872713029385\n",
            "Epoch 88000: Loss 0.02848166786134243 result 0.0023221722804009914\n",
            "Epoch 90000: Loss 0.02353283017873764 result 0.0006214900058694184\n",
            "Epoch 92000: Loss -0.012583221308887005 result 0.00031939041218720376\n",
            "Epoch 94000: Loss 0.047687023878097534 result 0.00045000985846854746\n",
            "Epoch 96000: Loss -0.027475878596305847 result 0.0003013040404766798\n",
            "Epoch 98000: Loss -0.010999956168234348 result 0.0004359401063993573\n"
          ]
        }
      ],
      "source": [
        "\n",
        "sigma= torch.median(sample_IS_torch[:,3])\n",
        "sigma = sigma.to(device)\n",
        "#w.to(mps_device)\n",
        "optimizer = Adam(w.parameters(), lr=1e-6, betas=(0.9, 0.999), eps=1e-08)\n",
        "\n",
        "lr_step = 100000\n",
        "lr_change_rate = 0.9\n",
        "scheduler = lr_scheduler.StepLR(optimizer, step_size=lr_step, gamma=lr_change_rate)\n",
        "\n",
        "\n",
        "for epoch in range(lr_step):\n",
        "    optimizer.zero_grad()\n",
        "    batch_idx = np.random.randint(0, num_customers, batch_size)\n",
        "    batch_data = sample_IS_torch[batch_idx,]\n",
        "\n",
        "    loss = loss_function(batch_data, batch_size, fA, fS, fA_tilde, fS_tilde, sigma)\n",
        "    loss.backward()\n",
        "    optimizer.step()\n",
        "    scheduler.step()\n",
        "\n",
        "    if epoch % 2000 == 0:\n",
        "        sample_IS_torch = torch.as_tensor(sample_IS, dtype=torch.float32,device = device)\n",
        "        weight = w(sample_IS_torch[:,3:4]).cpu().detach().numpy().squeeze()\n",
        "        result = np.sum(weight*(sample_IS[:,3] > 10))/np.sum(weight)\n",
        "        print(f'Epoch {epoch}: Loss {loss.item()} result {result}')\n",
        "\n",
        "        #for weight in w.parameters():\n",
        "        #    print(torch.norm(weight))"
      ]
    },
    {
      "cell_type": "code",
      "execution_count": null,
      "id": "6d74fdd6",
      "metadata": {
        "colab": {
          "base_uri": "https://localhost:8080/"
        },
        "id": "6d74fdd6",
        "outputId": "549905e3-e665-4c5c-ae26-82953fe8c68d"
      },
      "outputs": [
        {
          "output_type": "stream",
          "name": "stdout",
          "text": [
            "Theoretical R > 10: 7.582560427911907e-10\n",
            "Naive MC R > 10: 0.0\n",
            "Our result: 6.901277e-11\n"
          ]
        }
      ],
      "source": [
        "gamma = 30\n",
        "print(\"Theoretical R > 10:\", np.exp(-(service_rate_true-arrival_rate_true)*gamma))\n",
        "print(\"Naive MC R > 10:\", np.mean(sample_true[:,3] > gamma))\n",
        "sample_IS_torch = torch.as_tensor(sample_IS, dtype=torch.float32,device = device)\n",
        "weight = w(sample_IS_torch[:,3:4]).cpu().detach().numpy().squeeze()\n",
        "print('Our result:', np.sum(weight*(sample_IS[:,3] > gamma))/np.sum(weight))"
      ]
    },
    {
      "cell_type": "code",
      "execution_count": null,
      "id": "7dc36c93",
      "metadata": {
        "colab": {
          "base_uri": "https://localhost:8080/"
        },
        "id": "7dc36c93",
        "outputId": "cec0f697-561b-4059-fa47-83814f0c09c3"
      },
      "outputs": [
        {
          "output_type": "stream",
          "name": "stdout",
          "text": [
            "standard w: tensor(1.0299, device='cuda:0')\n",
            "calculated w: tensor(0.8951, device='cuda:0', grad_fn=<MeanBackward0>)\n"
          ]
        }
      ],
      "source": [
        "w_true = lambda x: (service_rate_true-arrival_rate_true)*torch.exp(-(service_rate_true-arrival_rate_true)*x) \\\n",
        "            / ((service_rate_IS-arrival_rate_IS)*torch.exp(-(service_rate_IS-arrival_rate_IS)*x))\n",
        "batch_idx = np.random.randint(0, num_customers, 512)\n",
        "batch_data = sample_IS[batch_idx,]\n",
        "batch_data = torch.as_tensor(batch_data, dtype=torch.float32,device = device)\n",
        "print('standard w:', torch.mean(w_true(batch_data[:,3:4])))\n",
        "print('calculated w:', torch.mean(w(batch_data[:,3:4])))"
      ]
    },
    {
      "cell_type": "code",
      "execution_count": null,
      "id": "5f8c3c78",
      "metadata": {
        "colab": {
          "base_uri": "https://localhost:8080/"
        },
        "id": "5f8c3c78",
        "outputId": "a6279abf-9a6e-40bc-b527-a080df9e7ecc"
      },
      "outputs": [
        {
          "output_type": "stream",
          "name": "stdout",
          "text": [
            "tensor([[0.0013]], device='cuda:0')\n",
            "tensor([[-0.0134]], device='cuda:0', grad_fn=<DivBackward0>)\n"
          ]
        }
      ],
      "source": [
        "delta = w_true(batch_data[:,2:3])*fA(batch_data[:,0:1])*fS(batch_data[:,1:2])/fA_tilde(batch_data[:,0:1])/fS_tilde(batch_data[:,1:2]) - w_true(batch_data[:,3:4])\n",
        "kernel = gaussian_kernel_matrix(batch_data[:,3], sigma)\n",
        "batch_value = delta.T @ kernel @ delta\n",
        "print(batch_value/batch_size/(batch_size-1))\n",
        "\n",
        "delta = w(batch_data[:,2:3])*fA(batch_data[:,0:1])*fS(batch_data[:,1:2])/fA_tilde(batch_data[:,0:1])/fS_tilde(batch_data[:,1:2]) - w_true(batch_data[:,3:4])\n",
        "kernel = gaussian_kernel_matrix(batch_data[:,3], sigma)\n",
        "batch_value = delta.T @ kernel @ delta\n",
        "print(batch_value/batch_size/(batch_size-1))"
      ]
    },
    {
      "cell_type": "code",
      "execution_count": null,
      "id": "569d5662",
      "metadata": {
        "colab": {
          "base_uri": "https://localhost:8080/",
          "height": 430
        },
        "id": "569d5662",
        "outputId": "d7876ab1-b4e6-4fa0-8d6a-adc44321c9f7"
      },
      "outputs": [
        {
          "output_type": "display_data",
          "data": {
            "text/plain": [
              "<Figure size 640x480 with 1 Axes>"
            ],
            "image/png": "[encoded data removed]"
          },
          "metadata": {}
        }
      ],
      "source": [
        "x = torch.arange(0, 10, 0.01)\n",
        "x = x.reshape(len(x),1)\n",
        "line1, = plt.plot(x.cpu().detach().numpy(), w(x).cpu().detach().numpy(), \"blue\", label=\"training function\")\n",
        "line2, = plt.plot(x.cpu().detach().numpy(), w_true(x).cpu().detach().numpy(), \"red\", label=\"true function\")\n",
        "plt.legend()\n",
        "plt.show()"
      ]
    },
    {
      "cell_type": "code",
      "execution_count": null,
      "id": "3eb3375a",
      "metadata": {
        "colab": {
          "base_uri": "https://localhost:8080/"
        },
        "id": "3eb3375a",
        "outputId": "a991fc69-47e5-4cd4-e6ab-412f3eaee615"
      },
      "outputs": [
        {
          "output_type": "stream",
          "name": "stdout",
          "text": [
            "Mounted at /content/drive\n"
          ]
        }
      ],
      "source": [
        "from google.colab import drive\n",
        "drive.mount('/content/drive')"
      ]
    },
    {
      "cell_type": "code",
      "source": [
        "model_save_path = \"/content/drive/MyDrive/DDA6104/AlgorithmMM1.pth\"\n",
        "torch.save(w.state_dict(), model_save_path)\n",
        "model = DensityRatioNetwork()\n",
        "model.load_state_dict(torch.load(model_save_path))"
      ],
      "metadata": {
        "id": "C-j5JOG9bikd"
      },
      "id": "C-j5JOG9bikd",
      "execution_count": null,
      "outputs": []
    }
  ],
  "metadata": {
    "kernelspec": {
      "display_name": "Python 3",
      "name": "python3"
    },
    "language_info": {
      "codemirror_mode": {
        "name": "ipython",
        "version": 3
      },
      "file_extension": ".py",
      "mimetype": "text/x-python",
      "name": "python",
      "nbconvert_exporter": "python",
      "pygments_lexer": "ipython3",
      "version": "3.10.4"
    },
    "colab": {
      "provenance": [],
      "gpuType": "V100",
      "include_colab_link": true
    },
    "accelerator": "GPU"
  },
  "nbformat": 4,
  "nbformat_minor": 5
}